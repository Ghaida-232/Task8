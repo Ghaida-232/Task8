{
 "cells": [
  {
   "cell_type": "markdown",
   "id": "6600db30",
   "metadata": {},
   "source": [
    "## Dataset overview and EDA"
   ]
  },
  {
   "cell_type": "code",
   "execution_count": 19,
   "id": "f61fba37",
   "metadata": {},
   "outputs": [
    {
     "data": {
      "text/html": [
       "<div>\n",
       "<style scoped>\n",
       "    .dataframe tbody tr th:only-of-type {\n",
       "        vertical-align: middle;\n",
       "    }\n",
       "\n",
       "    .dataframe tbody tr th {\n",
       "        vertical-align: top;\n",
       "    }\n",
       "\n",
       "    .dataframe thead th {\n",
       "        text-align: right;\n",
       "    }\n",
       "</style>\n",
       "<table border=\"1\" class=\"dataframe\">\n",
       "  <thead>\n",
       "    <tr style=\"text-align: right;\">\n",
       "      <th></th>\n",
       "      <th>Arabic</th>\n",
       "      <th>English</th>\n",
       "      <th>Type</th>\n",
       "    </tr>\n",
       "  </thead>\n",
       "  <tbody>\n",
       "    <tr>\n",
       "      <th>0</th>\n",
       "      <td>الأمل يضيء حياتنا.</td>\n",
       "      <td>Hope lights our lives.</td>\n",
       "      <td>Inspirational Sentences</td>\n",
       "    </tr>\n",
       "    <tr>\n",
       "      <th>1</th>\n",
       "      <td>لا تترك الفرص تفوتك بسبب الخوف.</td>\n",
       "      <td>Don’t let fear prevent you from seizing opport...</td>\n",
       "      <td>Inspirational Sentences</td>\n",
       "    </tr>\n",
       "    <tr>\n",
       "      <th>2</th>\n",
       "      <td>عندما تؤمن بنفسك، فإنك تصنع فرصًا جديدة.</td>\n",
       "      <td>When you believe in yourself, you create new o...</td>\n",
       "      <td>Inspirational Sentences</td>\n",
       "    </tr>\n",
       "    <tr>\n",
       "      <th>3</th>\n",
       "      <td>إذا كانت لديك الرغبة، فلا شيء يمكن أن يمنعك.</td>\n",
       "      <td>If you have the will, nothing can stop you.</td>\n",
       "      <td>Inspirational Sentences</td>\n",
       "    </tr>\n",
       "    <tr>\n",
       "      <th>4</th>\n",
       "      <td>كل صباح هو فرصة جديدة لتكون أفضل.</td>\n",
       "      <td>Every morning is a new chance to be better.</td>\n",
       "      <td>Inspirational Sentences</td>\n",
       "    </tr>\n",
       "  </tbody>\n",
       "</table>\n",
       "</div>"
      ],
      "text/plain": [
       "                                         Arabic  \\\n",
       "0                            الأمل يضيء حياتنا.   \n",
       "1               لا تترك الفرص تفوتك بسبب الخوف.   \n",
       "2      عندما تؤمن بنفسك، فإنك تصنع فرصًا جديدة.   \n",
       "3  إذا كانت لديك الرغبة، فلا شيء يمكن أن يمنعك.   \n",
       "4             كل صباح هو فرصة جديدة لتكون أفضل.   \n",
       "\n",
       "                                             English                     Type  \n",
       "0                             Hope lights our lives.  Inspirational Sentences  \n",
       "1  Don’t let fear prevent you from seizing opport...  Inspirational Sentences  \n",
       "2  When you believe in yourself, you create new o...  Inspirational Sentences  \n",
       "3        If you have the will, nothing can stop you.  Inspirational Sentences  \n",
       "4        Every morning is a new chance to be better.  Inspirational Sentences  "
      ]
     },
     "execution_count": 19,
     "metadata": {},
     "output_type": "execute_result"
    }
   ],
   "source": [
    "import pandas as pd\n",
    "df = pd.read_csv(\"data/arabic_english_sentences.csv\")\n",
    "df.head()\n",
    "\n",
    "\n"
   ]
  },
  {
   "cell_type": "code",
   "execution_count": 20,
   "id": "ac62ce4c",
   "metadata": {},
   "outputs": [
    {
     "name": "stdout",
     "output_type": "stream",
     "text": [
      "<class 'pandas.core.frame.DataFrame'>\n",
      "RangeIndex: 25000 entries, 0 to 24999\n",
      "Data columns (total 3 columns):\n",
      " #   Column   Non-Null Count  Dtype \n",
      "---  ------   --------------  ----- \n",
      " 0   Arabic   25000 non-null  object\n",
      " 1   English  25000 non-null  object\n",
      " 2   Type     25000 non-null  object\n",
      "dtypes: object(3)\n",
      "memory usage: 586.1+ KB\n",
      "(25000, 3)\n",
      "Index(['Arabic', 'English', 'Type'], dtype='object')\n"
     ]
    }
   ],
   "source": [
    "df.info()\n",
    "print(df.shape)\n",
    "print(df.columns)"
   ]
  },
  {
   "cell_type": "code",
   "execution_count": 21,
   "id": "5c555dda",
   "metadata": {},
   "outputs": [
    {
     "name": "stdout",
     "output_type": "stream",
     "text": [
      "Arabic     0\n",
      "English    0\n",
      "Type       0\n",
      "dtype: int64\n",
      "0\n"
     ]
    }
   ],
   "source": [
    "print(df.isnull().sum())\n",
    "print(df.duplicated().sum())"
   ]
  },
  {
   "cell_type": "code",
   "execution_count": 22,
   "id": "a32dc7aa",
   "metadata": {},
   "outputs": [
    {
     "data": {
      "text/html": [
       "<div>\n",
       "<style scoped>\n",
       "    .dataframe tbody tr th:only-of-type {\n",
       "        vertical-align: middle;\n",
       "    }\n",
       "\n",
       "    .dataframe tbody tr th {\n",
       "        vertical-align: top;\n",
       "    }\n",
       "\n",
       "    .dataframe thead th {\n",
       "        text-align: right;\n",
       "    }\n",
       "</style>\n",
       "<table border=\"1\" class=\"dataframe\">\n",
       "  <thead>\n",
       "    <tr style=\"text-align: right;\">\n",
       "      <th></th>\n",
       "      <th>len_en</th>\n",
       "      <th>len_ar</th>\n",
       "    </tr>\n",
       "  </thead>\n",
       "  <tbody>\n",
       "    <tr>\n",
       "      <th>count</th>\n",
       "      <td>25000.000000</td>\n",
       "      <td>25000.000000</td>\n",
       "    </tr>\n",
       "    <tr>\n",
       "      <th>mean</th>\n",
       "      <td>9.648320</td>\n",
       "      <td>8.346600</td>\n",
       "    </tr>\n",
       "    <tr>\n",
       "      <th>std</th>\n",
       "      <td>2.948211</td>\n",
       "      <td>2.517602</td>\n",
       "    </tr>\n",
       "    <tr>\n",
       "      <th>min</th>\n",
       "      <td>2.000000</td>\n",
       "      <td>2.000000</td>\n",
       "    </tr>\n",
       "    <tr>\n",
       "      <th>25%</th>\n",
       "      <td>8.000000</td>\n",
       "      <td>7.000000</td>\n",
       "    </tr>\n",
       "    <tr>\n",
       "      <th>50%</th>\n",
       "      <td>10.000000</td>\n",
       "      <td>8.000000</td>\n",
       "    </tr>\n",
       "    <tr>\n",
       "      <th>75%</th>\n",
       "      <td>11.000000</td>\n",
       "      <td>10.000000</td>\n",
       "    </tr>\n",
       "    <tr>\n",
       "      <th>max</th>\n",
       "      <td>25.000000</td>\n",
       "      <td>19.000000</td>\n",
       "    </tr>\n",
       "  </tbody>\n",
       "</table>\n",
       "</div>"
      ],
      "text/plain": [
       "             len_en        len_ar\n",
       "count  25000.000000  25000.000000\n",
       "mean       9.648320      8.346600\n",
       "std        2.948211      2.517602\n",
       "min        2.000000      2.000000\n",
       "25%        8.000000      7.000000\n",
       "50%       10.000000      8.000000\n",
       "75%       11.000000     10.000000\n",
       "max       25.000000     19.000000"
      ]
     },
     "execution_count": 22,
     "metadata": {},
     "output_type": "execute_result"
    }
   ],
   "source": [
    "df[\"len_en\"] = df[\"English\"].str.split().apply(len)\n",
    "df[\"len_ar\"] = df[\"Arabic\"].str.split().apply(len)\n",
    "df[[\"len_en\", \"len_ar\"]].describe()\n",
    "\n"
   ]
  },
  {
   "cell_type": "code",
   "execution_count": 23,
   "id": "87b66034",
   "metadata": {},
   "outputs": [
    {
     "data": {
      "image/png": "[encoded data removed]",
      "text/plain": [
       "<Figure size 1200x500 with 1 Axes>"
      ]
     },
     "metadata": {},
     "output_type": "display_data"
    }
   ],
   "source": [
    "import seaborn as sns\n",
    "import matplotlib.pyplot as plt\n",
    "\n",
    "plt.figure(figsize=(12,5))\n",
    "sns.histplot(df['len_en'], bins=50, kde=False, color='blue', label='English')\n",
    "sns.histplot(df['len_ar'], bins=50, kde=False, color='orange', label='Arabic')\n",
    "plt.legend()\n",
    "plt.title(\"Sentence Length Distribution\")\n",
    "plt.xlabel(\"Sentence Length (words)\")\n",
    "plt.ylabel(\"Frequency\")\n",
    "plt.show()"
   ]
  },
  {
   "cell_type": "code",
   "execution_count": 24,
   "id": "4420359d",
   "metadata": {},
   "outputs": [
    {
     "name": "stdout",
     "output_type": "stream",
     "text": [
      "English vocabulary size: 9533\n",
      "Arabic vocabulary size: 16185\n"
     ]
    }
   ],
   "source": [
    "# English vocab\n",
    "vocab_en = set(\" \".join(df['English']).split())\n",
    "# Arabic vocab\n",
    "vocab_ar = set(\" \".join(df['Arabic']).split())\n",
    "\n",
    "print(f\"English vocabulary size: {len(vocab_en)}\")\n",
    "print(f\"Arabic vocabulary size: {len(vocab_ar)}\")\n"
   ]
  },
  {
   "cell_type": "code",
   "execution_count": 25,
   "id": "e3b0df86",
   "metadata": {},
   "outputs": [
    {
     "name": "stdout",
     "output_type": "stream",
     "text": [
      "Total English tokens: 241208\n",
      "Total Arabic tokens: 208665\n",
      "Average tokens per sentence. EN: 9.65, AR: 8.35\n"
     ]
    }
   ],
   "source": [
    "total_tokens_en = df['len_en'].sum()\n",
    "total_tokens_ar = df['len_ar'].sum()\n",
    "\n",
    "print(f\"Total English tokens: {total_tokens_en}\")\n",
    "print(f\"Total Arabic tokens: {total_tokens_ar}\")\n",
    "print(f\"Average tokens per sentence. EN: {total_tokens_en/len(df):.2f}, AR: {total_tokens_ar/len(df):.2f}\")\n"
   ]
  },
  {
   "cell_type": "code",
   "execution_count": 26,
   "id": "8e630593",
   "metadata": {},
   "outputs": [
    {
     "name": "stdout",
     "output_type": "stream",
     "text": [
      "Top English terms: [('the', 10372), ('to', 8412), ('you', 7279), ('i', 5186), ('a', 5009), ('in', 4754), ('is', 4312), ('this', 4232), ('be', 3870), ('if', 3727), ('of', 3000), ('what', 2763), ('will', 2723), ('more', 2692), ('would', 2090), ('your', 2032), ('do', 1972), ('we', 1946), ('life', 1882), ('with', 1769)]\n",
      "Top Arabic terms: [('من', 8227), ('في', 7494), ('أن', 6490), ('أكثر', 2957), ('على', 2780), ('هذه', 2480), ('إلى', 2367), ('هو', 2334), ('لو', 2011), ('الذي', 1850), ('ما', 1845), ('هل', 1824), ('لكانت', 1807), ('إذا', 1721), ('كنت', 1645), ('تم', 1436), ('تحسين', 1415), ('الشخص', 1301), ('لا', 1271), ('أعتقد', 1254)]\n"
     ]
    }
   ],
   "source": [
    "from collections import Counter\n",
    "import re\n",
    "\n",
    "def tokenize(text):\n",
    "    return re.findall(r'\\b\\w+\\b', text.lower())\n",
    "\n",
    "# English\n",
    "all_en_tokens = [w for sent in df['English'] for w in tokenize(sent)]\n",
    "en_freq = Counter(all_en_tokens).most_common(20)\n",
    "\n",
    "# Arabic \n",
    "all_ar_tokens = [w for sent in df['Arabic'] for w in sent.split()]\n",
    "ar_freq = Counter(all_ar_tokens).most_common(20)\n",
    "\n",
    "print(\"Top English terms:\", en_freq)\n",
    "print(\"Top Arabic terms:\", ar_freq)\n"
   ]
  },
  {
   "cell_type": "code",
   "execution_count": 27,
   "id": "d8dff55d",
   "metadata": {},
   "outputs": [
    {
     "name": "stdout",
     "output_type": "stream",
     "text": [
      "Total mismatched pairs: 29 out of 25000\n"
     ]
    },
    {
     "data": {
      "text/html": [
       "<div>\n",
       "<style scoped>\n",
       "    .dataframe tbody tr th:only-of-type {\n",
       "        vertical-align: middle;\n",
       "    }\n",
       "\n",
       "    .dataframe tbody tr th {\n",
       "        vertical-align: top;\n",
       "    }\n",
       "\n",
       "    .dataframe thead th {\n",
       "        text-align: right;\n",
       "    }\n",
       "</style>\n",
       "<table border=\"1\" class=\"dataframe\">\n",
       "  <thead>\n",
       "    <tr style=\"text-align: right;\">\n",
       "      <th></th>\n",
       "      <th>Arabic</th>\n",
       "      <th>English</th>\n",
       "      <th>Type</th>\n",
       "      <th>len_en</th>\n",
       "      <th>len_ar</th>\n",
       "      <th>len_ratio</th>\n",
       "    </tr>\n",
       "  </thead>\n",
       "  <tbody>\n",
       "    <tr>\n",
       "      <th>23488</th>\n",
       "      <td>متى ستعود؟</td>\n",
       "      <td>When will you be back?</td>\n",
       "      <td>Everyday Expressions</td>\n",
       "      <td>5</td>\n",
       "      <td>2</td>\n",
       "      <td>0.400000</td>\n",
       "    </tr>\n",
       "    <tr>\n",
       "      <th>16618</th>\n",
       "      <td>إذا كنت تؤمن بمستقبلك، ستتمكن من بناءه بيديك.</td>\n",
       "      <td>If you believe in your future, you will be abl...</td>\n",
       "      <td>Conditional Sentences</td>\n",
       "      <td>17</td>\n",
       "      <td>8</td>\n",
       "      <td>0.470588</td>\n",
       "    </tr>\n",
       "    <tr>\n",
       "      <th>15288</th>\n",
       "      <td>من فضلك، قم بتفعيل خيار التحقق عبر البريد الإل...</td>\n",
       "      <td>Please enable email verification.</td>\n",
       "      <td>Commands / Requests</td>\n",
       "      <td>4</td>\n",
       "      <td>9</td>\n",
       "      <td>2.250000</td>\n",
       "    </tr>\n",
       "    <tr>\n",
       "      <th>20370</th>\n",
       "      <td>الرحلة تستغرق ساعة ونصف.</td>\n",
       "      <td>The trip will take an hour and a half.</td>\n",
       "      <td>Time and Quantity Sentences</td>\n",
       "      <td>9</td>\n",
       "      <td>4</td>\n",
       "      <td>0.444444</td>\n",
       "    </tr>\n",
       "    <tr>\n",
       "      <th>11116</th>\n",
       "      <td>كيف تعتني بصحتك النفسية؟</td>\n",
       "      <td>How do you take care of your mental health?</td>\n",
       "      <td>Questions</td>\n",
       "      <td>9</td>\n",
       "      <td>4</td>\n",
       "      <td>0.444444</td>\n",
       "    </tr>\n",
       "    <tr>\n",
       "      <th>11163</th>\n",
       "      <td>ما أروع أن نعيش اللحظة ونستمتع بها!</td>\n",
       "      <td>What a joy it is to live in the moment and enj...</td>\n",
       "      <td>Exclamatory Sentences</td>\n",
       "      <td>15</td>\n",
       "      <td>7</td>\n",
       "      <td>0.466667</td>\n",
       "    </tr>\n",
       "    <tr>\n",
       "      <th>20279</th>\n",
       "      <td>يستغرق تجميع المعدات ساعة.</td>\n",
       "      <td>It takes about an hour to gather the equipment.</td>\n",
       "      <td>Time and Quantity Sentences</td>\n",
       "      <td>9</td>\n",
       "      <td>4</td>\n",
       "      <td>0.444444</td>\n",
       "    </tr>\n",
       "    <tr>\n",
       "      <th>94</th>\n",
       "      <td>العمل اليوم هو استثمار لمستقبلك.</td>\n",
       "      <td>The work you do today is an investment in your...</td>\n",
       "      <td>Inspirational Sentences</td>\n",
       "      <td>11</td>\n",
       "      <td>5</td>\n",
       "      <td>0.454545</td>\n",
       "    </tr>\n",
       "    <tr>\n",
       "      <th>20646</th>\n",
       "      <td>سأعود بعد ساعتين.</td>\n",
       "      <td>I will be back in two hours.</td>\n",
       "      <td>Time and Quantity Sentences</td>\n",
       "      <td>7</td>\n",
       "      <td>3</td>\n",
       "      <td>0.428571</td>\n",
       "    </tr>\n",
       "    <tr>\n",
       "      <th>15300</th>\n",
       "      <td>من فضلك، قم بتفعيل خيار التحقق عبر الرسائل الن...</td>\n",
       "      <td>Please enable SMS verification.</td>\n",
       "      <td>Commands / Requests</td>\n",
       "      <td>4</td>\n",
       "      <td>9</td>\n",
       "      <td>2.250000</td>\n",
       "    </tr>\n",
       "  </tbody>\n",
       "</table>\n",
       "</div>"
      ],
      "text/plain": [
       "                                                  Arabic  \\\n",
       "23488                                         متى ستعود؟   \n",
       "16618      إذا كنت تؤمن بمستقبلك، ستتمكن من بناءه بيديك.   \n",
       "15288  من فضلك، قم بتفعيل خيار التحقق عبر البريد الإل...   \n",
       "20370                           الرحلة تستغرق ساعة ونصف.   \n",
       "11116                           كيف تعتني بصحتك النفسية؟   \n",
       "11163                ما أروع أن نعيش اللحظة ونستمتع بها!   \n",
       "20279                         يستغرق تجميع المعدات ساعة.   \n",
       "94                      العمل اليوم هو استثمار لمستقبلك.   \n",
       "20646                                  سأعود بعد ساعتين.   \n",
       "15300  من فضلك، قم بتفعيل خيار التحقق عبر الرسائل الن...   \n",
       "\n",
       "                                                 English  \\\n",
       "23488                             When will you be back?   \n",
       "16618  If you believe in your future, you will be abl...   \n",
       "15288                  Please enable email verification.   \n",
       "20370             The trip will take an hour and a half.   \n",
       "11116        How do you take care of your mental health?   \n",
       "11163  What a joy it is to live in the moment and enj...   \n",
       "20279    It takes about an hour to gather the equipment.   \n",
       "94     The work you do today is an investment in your...   \n",
       "20646                       I will be back in two hours.   \n",
       "15300                    Please enable SMS verification.   \n",
       "\n",
       "                              Type  len_en  len_ar  len_ratio  \n",
       "23488         Everyday Expressions       5       2   0.400000  \n",
       "16618        Conditional Sentences      17       8   0.470588  \n",
       "15288          Commands / Requests       4       9   2.250000  \n",
       "20370  Time and Quantity Sentences       9       4   0.444444  \n",
       "11116                    Questions       9       4   0.444444  \n",
       "11163        Exclamatory Sentences      15       7   0.466667  \n",
       "20279  Time and Quantity Sentences       9       4   0.444444  \n",
       "94         Inspirational Sentences      11       5   0.454545  \n",
       "20646  Time and Quantity Sentences       7       3   0.428571  \n",
       "15300          Commands / Requests       4       9   2.250000  "
      ]
     },
     "execution_count": 27,
     "metadata": {},
     "output_type": "execute_result"
    }
   ],
   "source": [
    "# Ratio of Arabic length to English length\n",
    "df['len_ratio'] = df['len_ar'] / df['len_en']\n",
    "\n",
    "# Define thresholds (you can adjust)\n",
    "lower_threshold = 0.5   # Arabic less than half the English length\n",
    "upper_threshold = 2.0   # Arabic more than double the English length\n",
    "\n",
    "mismatched = df[(df['len_ratio'] < lower_threshold) | (df['len_ratio'] > upper_threshold)]\n",
    "\n",
    "print(f\"Total mismatched pairs: {len(mismatched)} out of {len(df)}\")\n",
    "mismatched.sample(10)  # Show random 10 for review\n"
   ]
  },
  {
   "cell_type": "markdown",
   "id": "72876eee",
   "metadata": {},
   "source": [
    "## Data preprocessing"
   ]
  },
  {
   "cell_type": "code",
   "execution_count": 28,
   "id": "0e4cd9bc",
   "metadata": {},
   "outputs": [
    {
     "name": "stdout",
     "output_type": "stream",
     "text": [
      "Before cleaning: 25000\n"
     ]
    },
    {
     "name": "stderr",
     "output_type": "stream",
     "text": [
      "c:\\Users\\ga.aldaej\\AppData\\Local\\anaconda3\\envs\\task8\\lib\\site-packages\\huggingface_hub\\file_download.py:945: FutureWarning: `resume_download` is deprecated and will be removed in version 1.0.0. Downloads always resume when possible. If you want to force a new download, use `force_download=True`.\n",
      "  warnings.warn(\n"
     ]
    },
    {
     "name": "stdout",
     "output_type": "stream",
     "text": [
      "Tokenizer example: {'input_ids': [1946, 20920, 310, 3011, 2, 0], 'attention_mask': [1, 1, 1, 1, 1, 1]}\n",
      "After cleaning: 24966\n",
      "Train size: 17476, Val size: 3745, Test size: 3745\n"
     ]
    }
   ],
   "source": [
    "import re\n",
    "from sklearn.model_selection import train_test_split\n",
    "from transformers import MarianTokenizer\n",
    "\n",
    "# Load dataset\n",
    "df = pd.read_csv(\"data/arabic_english_sentences.csv\")\n",
    "\n",
    "print(\"Before cleaning:\", len(df))\n",
    "\n",
    "# Normalize punctuation & case\n",
    "def normalize_en(text):\n",
    "    text = text.lower()\n",
    "    text = re.sub(r'\\s+', ' ', text)\n",
    "    return text.strip()\n",
    "\n",
    "def normalize_ar(text):\n",
    "    text = re.sub('[ًٌٍَُِْـ]', '', text)  # remove (الحركات)\n",
    "    text = re.sub('[إأآا]', 'ا', text)     # unify (ا)\n",
    "    text = re.sub('ى', 'ي', text)\n",
    "    text = re.sub('ؤ', 'و', text)\n",
    "    text = re.sub('ئ', 'ي', text)\n",
    "    text = text.replace('،', ',')          # normalize comma\n",
    "    text = re.sub(r'\\s+', ' ', text)\n",
    "    return text.strip()\n",
    "\n",
    "df['English'] = df['English'].apply(normalize_en)\n",
    "df['Arabic'] = df['Arabic'].apply(normalize_ar)\n",
    "\n",
    "# Remove noisy/misaligned pairs\n",
    "df = df.dropna(subset=['English', 'Arabic'])\n",
    "df = df.drop_duplicates()\n",
    "\n",
    "df['len_en'] = df['English'].str.split().apply(len)\n",
    "df['len_ar'] = df['Arabic'].str.split().apply(len)\n",
    "df['len_ratio'] = df['len_ar'] / df['len_en']\n",
    "\n",
    "df = df[(df['len_ratio'] >= 0.5) & (df['len_ratio'] <= 2.0)]\n",
    "\n",
    "# Tokenizer preview \n",
    "tokenizer = MarianTokenizer.from_pretrained(\"Helsinki-NLP/opus-mt-en-ar\")\n",
    "sample = tokenizer(df['English'].iloc[0], truncation=True, max_length=128)\n",
    "print(\"Tokenizer example:\", sample)\n",
    "\n",
    "# Align data format for Hugging Face\n",
    "hf_format = pd.DataFrame({\n",
    "    \"translation\": [{\"en\": e, \"ar\": a} for e, a in zip(df['English'], df['Arabic'])]\n",
    "})\n",
    "\n",
    "# Train/val/test split 70/15/15\n",
    "train_df, temp_df = train_test_split(hf_format, test_size=0.30, random_state=42)\n",
    "val_df, test_df = train_test_split(temp_df, test_size=0.50, random_state=42)\n",
    "\n",
    "print(f\"After cleaning: {len(df)}\")\n",
    "print(f\"Train size: {len(train_df)}, Val size: {len(val_df)}, Test size: {len(test_df)}\")\n",
    "\n",
    "# Save outputs\n",
    "train_df.to_json(\"data/train.json\", orient='records', lines=True, force_ascii=False)\n",
    "val_df.to_json(\"data/val.json\", orient='records', lines=True, force_ascii=False)\n",
    "test_df.to_json(\"data/test.json\", orient='records', lines=True, force_ascii=False)\n"
   ]
  },
  {
   "cell_type": "markdown",
   "id": "fedc914d",
   "metadata": {},
   "source": [
    "## Model Building"
   ]
  },
  {
   "cell_type": "code",
   "execution_count": 29,
   "id": "fc402eea",
   "metadata": {},
   "outputs": [
    {
     "name": "stdout",
     "output_type": "stream",
     "text": [
      "Using GPU: NVIDIA GeForce RTX 4060 Laptop GPU\n"
     ]
    }
   ],
   "source": [
    "import os\n",
    "import torch\n",
    "from datasets import load_dataset\n",
    "from transformers import (\n",
    "    MarianMTModel, MarianTokenizer,\n",
    "    DataCollatorForSeq2Seq,\n",
    "    Seq2SeqTrainingArguments, Seq2SeqTrainer,\n",
    "    set_seed\n",
    ")\n",
    "\n",
    "# Config\n",
    "MODEL_NAME = \"Helsinki-NLP/opus-mt-en-ar\"\n",
    "DATA_DIR = \"data\"\n",
    "TRAIN_FILE = os.path.join(DATA_DIR, \"train.json\")\n",
    "VAL_FILE = os.path.join(DATA_DIR, \"val.json\")\n",
    "TEST_FILE = os.path.join(DATA_DIR, \"test.json\")\n",
    "\n",
    "OUTPUT_DIR = \"./opus-mt-en-ar-finetuned\"\n",
    "MAX_SOURCE_LENGTH = 128\n",
    "MAX_TARGET_LENGTH = 128\n",
    "BATCH_SIZE = 16\n",
    "NUM_EPOCHS = 3\n",
    "LEARNING_RATE = 2e-5\n",
    "SEED = 42\n",
    "\n",
    "set_seed(SEED)\n",
    "\n",
    "if torch.cuda.is_available():\n",
    "    print(f\"Using GPU: {torch.cuda.get_device_name(0)}\")\n",
    "else:\n",
    "    print(\"Using CPU\")\n"
   ]
  },
  {
   "cell_type": "code",
   "execution_count": 30,
   "id": "366dc6d8",
   "metadata": {},
   "outputs": [
    {
     "name": "stderr",
     "output_type": "stream",
     "text": [
      "c:\\Users\\ga.aldaej\\AppData\\Local\\anaconda3\\envs\\task8\\lib\\site-packages\\transformers\\modeling_utils.py:460: FutureWarning: You are using `torch.load` with `weights_only=False` (the current default value), which uses the default pickle module implicitly. It is possible to construct malicious pickle data which will execute arbitrary code during unpickling (See https://github.com/pytorch/pytorch/blob/main/SECURITY.md#untrusted-models for more details). In a future release, the default value for `weights_only` will be flipped to `True`. This limits the functions that could be executed during unpickling. Arbitrary objects will no longer be allowed to be loaded via this mode unless they are explicitly allowlisted by the user via `torch.serialization.add_safe_globals`. We recommend you start setting `weights_only=True` for any use case where you don't have full control of the loaded file. Please open an issue on GitHub for any issues related to this experimental feature.\n",
      "  return torch.load(checkpoint_file, map_location=\"cpu\")\n"
     ]
    }
   ],
   "source": [
    "tokenizer = MarianTokenizer.from_pretrained(MODEL_NAME)\n",
    "model = MarianMTModel.from_pretrained(MODEL_NAME)\n",
    "\n"
   ]
  },
  {
   "cell_type": "code",
   "execution_count": 31,
   "id": "ee3a5914",
   "metadata": {},
   "outputs": [
    {
     "data": {
      "application/vnd.jupyter.widget-view+json": {
       "model_id": "91e46609a5854f25b268eba0f33529dc",
       "version_major": 2,
       "version_minor": 0
      },
      "text/plain": [
       "Generating train split: 0 examples [00:00, ? examples/s]"
      ]
     },
     "metadata": {},
     "output_type": "display_data"
    },
    {
     "data": {
      "application/vnd.jupyter.widget-view+json": {
       "model_id": "8ea287856028479683f9f5e92fcc28a9",
       "version_major": 2,
       "version_minor": 0
      },
      "text/plain": [
       "Generating validation split: 0 examples [00:00, ? examples/s]"
      ]
     },
     "metadata": {},
     "output_type": "display_data"
    },
    {
     "data": {
      "application/vnd.jupyter.widget-view+json": {
       "model_id": "e33c2a39f8e94d50a873683bb6405595",
       "version_major": 2,
       "version_minor": 0
      },
      "text/plain": [
       "Generating test split: 0 examples [00:00, ? examples/s]"
      ]
     },
     "metadata": {},
     "output_type": "display_data"
    },
    {
     "name": "stdout",
     "output_type": "stream",
     "text": [
      "train: 17476 samples\n",
      "validation: 3745 samples\n",
      "test: 3745 samples\n"
     ]
    }
   ],
   "source": [
    "data_files = {\"train\": TRAIN_FILE, \"validation\": VAL_FILE, \"test\": TEST_FILE}\n",
    "raw_datasets = load_dataset(\"json\", data_files=data_files)\n",
    "\n",
    "for split in raw_datasets:\n",
    "    print(f\"{split}: {len(raw_datasets[split])} samples\")\n"
   ]
  },
  {
   "cell_type": "code",
   "execution_count": 32,
   "id": "1175e741",
   "metadata": {},
   "outputs": [
    {
     "data": {
      "application/vnd.jupyter.widget-view+json": {
       "model_id": "3f84bf1709914291a0f5b327f7df8aa8",
       "version_major": 2,
       "version_minor": 0
      },
      "text/plain": [
       "Map:   0%|          | 0/17476 [00:00<?, ? examples/s]"
      ]
     },
     "metadata": {},
     "output_type": "display_data"
    },
    {
     "name": "stderr",
     "output_type": "stream",
     "text": [
      "c:\\Users\\ga.aldaej\\AppData\\Local\\anaconda3\\envs\\task8\\lib\\site-packages\\transformers\\tokenization_utils_base.py:3635: UserWarning: `as_target_tokenizer` is deprecated and will be removed in v5 of Transformers. You can tokenize your labels by using the argument `text_target` of the regular `__call__` method (either in the same call as your input texts if you use the same keyword arguments, or in a separate call.\n",
      "  warnings.warn(\n"
     ]
    },
    {
     "data": {
      "application/vnd.jupyter.widget-view+json": {
       "model_id": "9a13e68723104b1ebc7aa3500fc1c01f",
       "version_major": 2,
       "version_minor": 0
      },
      "text/plain": [
       "Map:   0%|          | 0/3745 [00:00<?, ? examples/s]"
      ]
     },
     "metadata": {},
     "output_type": "display_data"
    },
    {
     "data": {
      "application/vnd.jupyter.widget-view+json": {
       "model_id": "26946b019a2e463fb15fc11f9a212925",
       "version_major": 2,
       "version_minor": 0
      },
      "text/plain": [
       "Map:   0%|          | 0/3745 [00:00<?, ? examples/s]"
      ]
     },
     "metadata": {},
     "output_type": "display_data"
    }
   ],
   "source": [
    "def preprocess_function(examples):\n",
    "    src_texts = [t[\"en\"] for t in examples[\"translation\"]]\n",
    "    tgt_texts = [t[\"ar\"] for t in examples[\"translation\"]]\n",
    "\n",
    "    model_inputs = tokenizer(src_texts, max_length=MAX_SOURCE_LENGTH, truncation=True)\n",
    "\n",
    "    with tokenizer.as_target_tokenizer():\n",
    "        labels = tokenizer(tgt_texts, max_length=MAX_TARGET_LENGTH, truncation=True)\n",
    "\n",
    "    model_inputs[\"labels\"] = labels[\"input_ids\"]\n",
    "    return model_inputs\n",
    "\n",
    "tokenized_datasets = raw_datasets.map(\n",
    "    preprocess_function,\n",
    "    batched=True,\n",
    "    remove_columns=raw_datasets[\"train\"].column_names\n",
    ")\n"
   ]
  },
  {
   "cell_type": "code",
   "execution_count": 33,
   "id": "543dc014",
   "metadata": {},
   "outputs": [],
   "source": [
    "import evaluate\n",
    "import numpy as np\n",
    "data_collator = DataCollatorForSeq2Seq(tokenizer=tokenizer, model=model, label_pad_token_id=-100)\n",
    "bleu = evaluate.load(\"sacrebleu\")\n",
    "\n",
    "def postprocess_text(preds, labels):\n",
    "    preds = [pred.strip() for pred in preds]\n",
    "    labels = [[lbl.strip()] for lbl in labels]\n",
    "    return preds, labels\n",
    "\n",
    "def compute_metrics(eval_pred):\n",
    "    predictions, labels = eval_pred\n",
    "    if isinstance(predictions, tuple):\n",
    "        predictions = predictions[0]\n",
    "\n",
    "    decoded_preds = tokenizer.batch_decode(predictions, skip_special_tokens=True)\n",
    "    labels = np.where(labels != -100, labels, tokenizer.pad_token_id)\n",
    "    decoded_labels = tokenizer.batch_decode(labels, skip_special_tokens=True)\n",
    "\n",
    "    decoded_preds, decoded_labels = postprocess_text(decoded_preds, decoded_labels)\n",
    "\n",
    "    result = bleu.compute(predictions=decoded_preds, references=decoded_labels)\n",
    "    return {\"bleu\": result[\"score\"]}\n"
   ]
  },
  {
   "cell_type": "code",
   "execution_count": 3,
   "id": "6a313d54",
   "metadata": {},
   "outputs": [
    {
     "name": "stdout",
     "output_type": "stream",
     "text": [
      "4.31.0\n"
     ]
    }
   ],
   "source": [
    "import transformers\n",
    "print(transformers.__version__)\n"
   ]
  },
  {
   "cell_type": "code",
   "execution_count": 35,
   "id": "9b33cc7c",
   "metadata": {},
   "outputs": [],
   "source": [
    "from transformers import Seq2SeqTrainingArguments, Seq2SeqTrainer\n",
    "\n",
    "training_args = Seq2SeqTrainingArguments(\n",
    "    output_dir=OUTPUT_DIR,\n",
    "    evaluation_strategy=\"epoch\",\n",
    "    save_strategy=\"epoch\",\n",
    "    learning_rate=LEARNING_RATE,\n",
    "    per_device_train_batch_size=BATCH_SIZE,\n",
    "    per_device_eval_batch_size=BATCH_SIZE,\n",
    "    weight_decay=0.01,\n",
    "    save_total_limit=3,\n",
    "    num_train_epochs=NUM_EPOCHS,\n",
    "    predict_with_generate=True,\n",
    "    logging_dir=\"./logs\",\n",
    "    load_best_model_at_end=True,\n",
    "    metric_for_best_model=\"bleu\",\n",
    "    fp16=torch.cuda.is_available()\n",
    ")\n",
    "\n",
    "trainer = Seq2SeqTrainer(\n",
    "    model=model,\n",
    "    args=training_args,\n",
    "    train_dataset=tokenized_datasets[\"train\"],\n",
    "    eval_dataset=tokenized_datasets[\"validation\"],\n",
    "    tokenizer=tokenizer,\n",
    "    data_collator=data_collator,\n",
    "    compute_metrics=compute_metrics\n",
    ")\n"
   ]
  },
  {
   "cell_type": "code",
   "execution_count": 36,
   "id": "7fdec54b",
   "metadata": {},
   "outputs": [
    {
     "name": "stderr",
     "output_type": "stream",
     "text": [
      "c:\\Users\\ga.aldaej\\AppData\\Local\\anaconda3\\envs\\task8\\lib\\site-packages\\transformers\\optimization.py:411: FutureWarning: This implementation of AdamW is deprecated and will be removed in a future version. Use the PyTorch implementation torch.optim.AdamW instead, or set `no_deprecation_warning=True` to disable this warning\n",
      "  warnings.warn(\n"
     ]
    },
    {
     "data": {
      "application/vnd.jupyter.widget-view+json": {
       "model_id": "0090bcbfa8194691aa9669fdf1e35afb",
       "version_major": 2,
       "version_minor": 0
      },
      "text/plain": [
       "  0%|          | 0/3279 [00:00<?, ?it/s]"
      ]
     },
     "metadata": {},
     "output_type": "display_data"
    },
    {
     "name": "stdout",
     "output_type": "stream",
     "text": [
      "{'loss': 0.6626, 'learning_rate': 1.6956389143031412e-05, 'epoch': 0.46}\n",
      "{'loss': 0.4721, 'learning_rate': 1.390667886550778e-05, 'epoch': 0.91}\n"
     ]
    },
    {
     "data": {
      "application/vnd.jupyter.widget-view+json": {
       "model_id": "cd0f68af98194cf7a8cc7c178f89532b",
       "version_major": 2,
       "version_minor": 0
      },
      "text/plain": [
       "  0%|          | 0/235 [00:00<?, ?it/s]"
      ]
     },
     "metadata": {},
     "output_type": "display_data"
    },
    {
     "name": "stdout",
     "output_type": "stream",
     "text": [
      "{'eval_loss': 0.40355777740478516, 'eval_bleu': 68.62446896443612, 'eval_runtime': 99.1958, 'eval_samples_per_second': 37.754, 'eval_steps_per_second': 2.369, 'epoch': 1.0}\n",
      "{'loss': 0.3781, 'learning_rate': 1.086306800853919e-05, 'epoch': 1.37}\n",
      "{'loss': 0.3467, 'learning_rate': 7.819457151570602e-06, 'epoch': 1.83}\n"
     ]
    },
    {
     "data": {
      "application/vnd.jupyter.widget-view+json": {
       "model_id": "fa0aa1a051114ba297b5c173d8316fb5",
       "version_major": 2,
       "version_minor": 0
      },
      "text/plain": [
       "  0%|          | 0/235 [00:00<?, ?it/s]"
      ]
     },
     "metadata": {},
     "output_type": "display_data"
    },
    {
     "name": "stdout",
     "output_type": "stream",
     "text": [
      "{'eval_loss': 0.37677448987960815, 'eval_bleu': 69.11709038293507, 'eval_runtime': 97.4223, 'eval_samples_per_second': 38.441, 'eval_steps_per_second': 2.412, 'epoch': 2.0}\n",
      "{'loss': 0.3155, 'learning_rate': 4.769746874046966e-06, 'epoch': 2.29}\n",
      "{'loss': 0.298, 'learning_rate': 1.7200365965233304e-06, 'epoch': 2.74}\n"
     ]
    },
    {
     "data": {
      "application/vnd.jupyter.widget-view+json": {
       "model_id": "3e7ae4ae9f84477bbd3810e19a2d56f4",
       "version_major": 2,
       "version_minor": 0
      },
      "text/plain": [
       "  0%|          | 0/235 [00:00<?, ?it/s]"
      ]
     },
     "metadata": {},
     "output_type": "display_data"
    },
    {
     "name": "stdout",
     "output_type": "stream",
     "text": [
      "{'eval_loss': 0.36991268396377563, 'eval_bleu': 69.77673303687533, 'eval_runtime': 102.0031, 'eval_samples_per_second': 36.715, 'eval_steps_per_second': 2.304, 'epoch': 3.0}\n"
     ]
    },
    {
     "name": "stderr",
     "output_type": "stream",
     "text": [
      "c:\\Users\\ga.aldaej\\AppData\\Local\\anaconda3\\envs\\task8\\lib\\site-packages\\transformers\\trainer.py:2159: FutureWarning: You are using `torch.load` with `weights_only=False` (the current default value), which uses the default pickle module implicitly. It is possible to construct malicious pickle data which will execute arbitrary code during unpickling (See https://github.com/pytorch/pytorch/blob/main/SECURITY.md#untrusted-models for more details). In a future release, the default value for `weights_only` will be flipped to `True`. This limits the functions that could be executed during unpickling. Arbitrary objects will no longer be allowed to be loaded via this mode unless they are explicitly allowlisted by the user via `torch.serialization.add_safe_globals`. We recommend you start setting `weights_only=True` for any use case where you don't have full control of the loaded file. Please open an issue on GitHub for any issues related to this experimental feature.\n",
      "  state_dict = torch.load(best_model_path, map_location=\"cpu\")\n"
     ]
    },
    {
     "name": "stdout",
     "output_type": "stream",
     "text": [
      "{'train_runtime': 560.6671, 'train_samples_per_second': 93.51, 'train_steps_per_second': 5.848, 'train_loss': 0.4023079297716351, 'epoch': 3.0}\n"
     ]
    },
    {
     "data": {
      "text/plain": [
       "TrainOutput(global_step=3279, training_loss=0.4023079297716351, metrics={'train_runtime': 560.6671, 'train_samples_per_second': 93.51, 'train_steps_per_second': 5.848, 'train_loss': 0.4023079297716351, 'epoch': 3.0})"
      ]
     },
     "execution_count": 36,
     "metadata": {},
     "output_type": "execute_result"
    }
   ],
   "source": [
    "trainer.train()\n"
   ]
  },
  {
   "cell_type": "markdown",
   "id": "fa47a9bc",
   "metadata": {},
   "source": [
    "## Model evaluation and testing"
   ]
  },
  {
   "cell_type": "code",
   "execution_count": 37,
   "id": "42ec9088",
   "metadata": {},
   "outputs": [
    {
     "data": {
      "application/vnd.jupyter.widget-view+json": {
       "model_id": "cd4585fe9f544727a8fc4096557eda74",
       "version_major": 2,
       "version_minor": 0
      },
      "text/plain": [
       "  0%|          | 0/235 [00:00<?, ?it/s]"
      ]
     },
     "metadata": {},
     "output_type": "display_data"
    },
    {
     "data": {
      "text/plain": [
       "{'eval_loss': 0.3639846742153168,\n",
       " 'eval_bleu': 70.25705839556663,\n",
       " 'eval_runtime': 98.8732,\n",
       " 'eval_samples_per_second': 37.877,\n",
       " 'eval_steps_per_second': 2.377,\n",
       " 'epoch': 3.0}"
      ]
     },
     "execution_count": 37,
     "metadata": {},
     "output_type": "execute_result"
    }
   ],
   "source": [
    "metrics = trainer.evaluate(tokenized_datasets[\"test\"])\n",
    "metrics\n"
   ]
  },
  {
   "cell_type": "code",
   "execution_count": 38,
   "id": "dc93e7d3",
   "metadata": {},
   "outputs": [
    {
     "name": "stdout",
     "output_type": "stream",
     "text": [
      "EN: do you think real friendships are rare?\n",
      "PRED: هل تعتقد ان الصداقات الحقيقية نادرة؟\n",
      "REF: هل تظن ان الصداقات الحقيقية نادرة؟\n",
      "--------------------------------------------------\n",
      "EN: success requires deep thinking and good analysis.\n",
      "PRED: النجاح يتطلب تفكيرا عميقا وتحليلا جيدا.\n",
      "REF: النجاح يحتاج الي تفكير عميق وتحليل جيد.\n",
      "--------------------------------------------------\n",
      "EN: i won’t be able to work on this project anymore.\n",
      "PRED: لن اتمكن من العمل علي هذا المشروع بعد الان.\n",
      "REF: لن اتمكن من العمل في هذا المشروع بعد الان.\n",
      "--------------------------------------------------\n",
      "EN: thanks to focusing on modern technology, productivity increased.\n",
      "PRED: بفضل التركيز علي التكنولوجيا الحديثة, تم زيادة الانتاجية.\n",
      "REF: بفضل الاهتمام بالتكنولوجيا الحديثة, تم زيادة الانتاجية.\n",
      "--------------------------------------------------\n",
      "EN: research conducted at this institution is more specialized than research at other institutions.\n",
      "PRED: البحث الذي يتم في هذه الموسسة اكثر تخصصا من البحث في الموسسات الاخري.\n",
      "REF: البحث الذي يتم في هذه الموسسة اكثر تخصصا من البحث في الموسسات الاخري.\n",
      "--------------------------------------------------\n"
     ]
    }
   ],
   "source": [
    "n_samples = 5\n",
    "raw_test = raw_datasets[\"test\"]\n",
    "\n",
    "for i in range(n_samples):\n",
    "    src = raw_test[i][\"translation\"][\"en\"]\n",
    "    ref = raw_test[i][\"translation\"][\"ar\"]\n",
    "\n",
    "    inputs = tokenizer(src, return_tensors=\"pt\", truncation=True, max_length=MAX_SOURCE_LENGTH).to(model.device)\n",
    "    outputs = model.generate(**inputs, max_length=MAX_TARGET_LENGTH, num_beams=4, early_stopping=True)\n",
    "    pred = tokenizer.decode(outputs[0], skip_special_tokens=True)\n",
    "\n",
    "    print(f\"English: {src}\")\n",
    "    print(f\"Model translation: {pred}\")\n",
    "    print(f\"Ground truth translation: {ref}\")\n",
    "    print(\"-\" * 50)\n"
   ]
  },
  {
   "cell_type": "code",
   "execution_count": 40,
   "id": "ab134d13",
   "metadata": {},
   "outputs": [
    {
     "name": "stderr",
     "output_type": "stream",
     "text": [
      "[nltk_data] Downloading package wordnet to\n",
      "[nltk_data]     C:\\Users\\ga.aldaej\\AppData\\Roaming\\nltk_data...\n",
      "[nltk_data] Downloading package punkt to\n",
      "[nltk_data]     C:\\Users\\ga.aldaej\\AppData\\Roaming\\nltk_data...\n",
      "[nltk_data]   Unzipping tokenizers\\punkt.zip.\n"
     ]
    },
    {
     "data": {
      "text/plain": [
       "True"
      ]
     },
     "execution_count": 40,
     "metadata": {},
     "output_type": "execute_result"
    }
   ],
   "source": [
    "import nltk\n",
    "nltk.download('wordnet')\n",
    "nltk.download('punkt')\n"
   ]
  },
  {
   "cell_type": "code",
   "execution_count": 59,
   "id": "b4eb8adf",
   "metadata": {},
   "outputs": [
    {
     "name": "stderr",
     "output_type": "stream",
     "text": [
      "c:\\Users\\ga.aldaej\\AppData\\Local\\anaconda3\\envs\\task8\\lib\\site-packages\\transformers\\modeling_utils.py:460: FutureWarning: You are using `torch.load` with `weights_only=False` (the current default value), which uses the default pickle module implicitly. It is possible to construct malicious pickle data which will execute arbitrary code during unpickling (See https://github.com/pytorch/pytorch/blob/main/SECURITY.md#untrusted-models for more details). In a future release, the default value for `weights_only` will be flipped to `True`. This limits the functions that could be executed during unpickling. Arbitrary objects will no longer be allowed to be loaded via this mode unless they are explicitly allowlisted by the user via `torch.serialization.add_safe_globals`. We recommend you start setting `weights_only=True` for any use case where you don't have full control of the loaded file. Please open an issue on GitHub for any issues related to this experimental feature.\n",
      "  return torch.load(checkpoint_file, map_location=\"cpu\")\n",
      "[nltk_data] Downloading package wordnet to\n",
      "[nltk_data]     C:\\Users\\ga.aldaej\\AppData\\Roaming\\nltk_data...\n",
      "[nltk_data]   Package wordnet is already up-to-date!\n",
      "[nltk_data] Downloading package punkt_tab to\n",
      "[nltk_data]     C:\\Users\\ga.aldaej\\AppData\\Roaming\\nltk_data...\n",
      "[nltk_data]   Package punkt_tab is already up-to-date!\n",
      "[nltk_data] Downloading package omw-1.4 to\n",
      "[nltk_data]     C:\\Users\\ga.aldaej\\AppData\\Roaming\\nltk_data...\n",
      "[nltk_data]   Package omw-1.4 is already up-to-date!\n"
     ]
    },
    {
     "name": "stdout",
     "output_type": "stream",
     "text": [
      "\n",
      " Translation Quality Metrics\n",
      "BLEU:   70.25\n",
      "ROUGE:  {'rouge1': 0.004005340453938585, 'rouge2': 0.000267022696929239, 'rougeL': 0.004005340453938585, 'rougeLsum': 0.004005340453938585}\n",
      "METEOR: 0.8301\n",
      "\n",
      " Sample Translations\n",
      "English: do you think real friendships are rare?\n",
      "Model translation: هل تعتقد ان الصداقات الحقيقية نادرة؟\n",
      "Ground truth translation: هل تظن ان الصداقات الحقيقية نادرة؟\n",
      "---\n",
      "English: success requires deep thinking and good analysis.\n",
      "Model translation: النجاح يتطلب تفكيرا عميقا وتحليلا جيدا.\n",
      "Ground truth translation: النجاح يحتاج الي تفكير عميق وتحليل جيد.\n",
      "---\n",
      "English: i won’t be able to work on this project anymore.\n",
      "Model translation: لن اتمكن من العمل علي هذا المشروع بعد الان.\n",
      "Ground truth translation: لن اتمكن من العمل في هذا المشروع بعد الان.\n",
      "---\n"
     ]
    }
   ],
   "source": [
    "import evaluate\n",
    "\n",
    "# Load trained model and tokenizer\n",
    "model_path = \"./opus-mt-en-ar-finetuned/checkpoint-3279\"\n",
    "model = MarianMTModel.from_pretrained(model_path)\n",
    "tokenizer = MarianTokenizer.from_pretrained(model_path)\n",
    "\n",
    "# Use GPU if available\n",
    "device = torch.device(\"cuda\" if torch.cuda.is_available() else \"cpu\")\n",
    "model.to(device)\n",
    "\n",
    "# Load test dataset\n",
    "dataset = load_dataset(\"json\", data_files={\"test\": \"data/test.json\"})\n",
    "test_data = dataset[\"test\"]\n",
    "\n",
    "# Prepare metric objects\n",
    "bleu_metric = evaluate.load(\"sacrebleu\")\n",
    "rouge_metric = evaluate.load(\"rouge\")\n",
    "meteor_metric = evaluate.load(\"meteor\")\n",
    "\n",
    "# Batch size for faster inference\n",
    "batch_size = 16\n",
    "\n",
    "predictions = []\n",
    "references = []\n",
    "\n",
    "# Process in batches\n",
    "for i in range(0, len(test_data), batch_size):\n",
    "    batch = test_data.select(range(i, min(i + batch_size, len(test_data))))\n",
    "    batch_dicts = batch[\"translation\"]  # This is a list of dicts\n",
    "\n",
    "    input_texts = [ex[\"en\"] for ex in batch_dicts]\n",
    "    ref_texts = [ex[\"ar\"] for ex in batch_dicts]\n",
    "\n",
    "    # Tokenize batch and move tensors to device\n",
    "    inputs = tokenizer(input_texts, return_tensors=\"pt\", truncation=True, padding=True).to(device)\n",
    "\n",
    "    # Generate translations\n",
    "    with torch.no_grad():\n",
    "        translated_tokens = model.generate(**inputs, max_length=128)\n",
    "\n",
    "    for t in translated_tokens:\n",
    "        translated_text = tokenizer.decode(t, skip_special_tokens=True)\n",
    "        predictions.append(translated_text)\n",
    "\n",
    "    references.extend([[r] for r in ref_texts])\n",
    "\n",
    "# Compute metrics\n",
    "bleu_score = bleu_metric.compute(predictions=predictions, references=references)\n",
    "rouge_score = rouge_metric.compute(predictions=predictions, references=[r[0] for r in references])\n",
    "meteor_score = meteor_metric.compute(predictions=predictions, references=[r[0] for r in references])\n",
    "\n",
    "# Print results\n",
    "print(\"\\n Translation Quality Metrics\")\n",
    "print(f\"BLEU:   {bleu_score['score']:.2f}\")\n",
    "print(f\"ROUGE:  {rouge_score}\")\n",
    "print(f\"METEOR: {meteor_score['meteor']:.4f}\")\n",
    "\n",
    "# Show some sample outputs\n",
    "print(\"\\n Sample Translations\")\n",
    "for i in range(3):\n",
    "    print(f\"English: {test_data[i]['translation']['en']}\")\n",
    "    print(f\"Model translation: {predictions[i]}\")\n",
    "    print(f\"Ground truth translation: {references[i][0]}\")\n",
    "    print(\"---\")\n"
   ]
  },
  {
   "cell_type": "code",
   "execution_count": 60,
   "id": "dfd665fb",
   "metadata": {},
   "outputs": [
    {
     "name": "stderr",
     "output_type": "stream",
     "text": [
      "c:\\Users\\ga.aldaej\\AppData\\Local\\anaconda3\\envs\\task8\\lib\\site-packages\\nltk\\translate\\bleu_score.py:577: UserWarning: \n",
      "The hypothesis contains 0 counts of 2-gram overlaps.\n",
      "Therefore the BLEU score evaluates to 0, independently of\n",
      "how many N-gram overlaps of lower order it contains.\n",
      "Consider using lower n-gram order or use SmoothingFunction()\n",
      "  warnings.warn(_msg)\n",
      "c:\\Users\\ga.aldaej\\AppData\\Local\\anaconda3\\envs\\task8\\lib\\site-packages\\nltk\\translate\\bleu_score.py:577: UserWarning: \n",
      "The hypothesis contains 0 counts of 3-gram overlaps.\n",
      "Therefore the BLEU score evaluates to 0, independently of\n",
      "how many N-gram overlaps of lower order it contains.\n",
      "Consider using lower n-gram order or use SmoothingFunction()\n",
      "  warnings.warn(_msg)\n",
      "c:\\Users\\ga.aldaej\\AppData\\Local\\anaconda3\\envs\\task8\\lib\\site-packages\\nltk\\translate\\bleu_score.py:577: UserWarning: \n",
      "The hypothesis contains 0 counts of 4-gram overlaps.\n",
      "Therefore the BLEU score evaluates to 0, independently of\n",
      "how many N-gram overlaps of lower order it contains.\n",
      "Consider using lower n-gram order or use SmoothingFunction()\n",
      "  warnings.warn(_msg)\n"
     ]
    },
    {
     "data": {
      "image/png": "[encoded data removed]",
      "text/plain": [
       "<Figure size 1000x500 with 1 Axes>"
      ]
     },
     "metadata": {},
     "output_type": "display_data"
    }
   ],
   "source": [
    "import matplotlib.pyplot as plt\n",
    "from nltk.translate.bleu_score import sentence_bleu\n",
    "\n",
    "# Calculate sentence-level BLEU scores\n",
    "sentence_bleus = [\n",
    "    sentence_bleu([ref.split()], pred.split()) * 100\n",
    "    for pred, ref in zip(predictions, [r[0] for r in references])\n",
    "]\n",
    "\n",
    "# Plot\n",
    "plt.figure(figsize=(10, 5))\n",
    "plt.plot(range(len(sentence_bleus)), sentence_bleus, marker='o')\n",
    "plt.xlabel(\"Sentence Index\")\n",
    "plt.ylabel(\"BLEU Score\")\n",
    "plt.title(\"Sentence-level BLEU Scores\")\n",
    "plt.savefig(\"figures/bleu_scores.png\")\n",
    "plt.show()\n"
   ]
  },
  {
   "cell_type": "code",
   "execution_count": 67,
   "id": "d154b72b",
   "metadata": {},
   "outputs": [
    {
     "data": {
      "image/png": "[encoded data removed]",
      "text/plain": [
       "<Figure size 1000x750 with 5 Axes>"
      ]
     },
     "metadata": {},
     "output_type": "display_data"
    }
   ],
   "source": [
    "import arabic_reshaper\n",
    "from bidi.algorithm import get_display\n",
    "import matplotlib.pyplot as plt\n",
    "\n",
    "# Pick first 5 examples\n",
    "num_examples = 5\n",
    "fig, axs = plt.subplots(num_examples, 1, figsize=(10, num_examples*1.5))\n",
    "\n",
    "for i in range(num_examples):\n",
    "    # Reshape and reorder Arabic text\n",
    "    pred_ar = get_display(arabic_reshaper.reshape(predictions[i]))\n",
    "    ref_ar  = get_display(arabic_reshaper.reshape(references[i][0]))\n",
    "    \n",
    "    text = f\"Engilsh: {test_data[i]['translation']['en']}\\nModel translation: {pred_ar}\\nGround truth translation: {ref_ar}\"\n",
    "    axs[i].text(0, 0.5, text, fontsize=10)\n",
    "    axs[i].axis(\"off\")\n",
    "\n",
    "plt.savefig(\"figures/translation_examples.png\")\n",
    "plt.show()\n"
   ]
  },
  {
   "cell_type": "code",
   "execution_count": 66,
   "id": "12a4f07d",
   "metadata": {},
   "outputs": [
    {
     "name": "stderr",
     "output_type": "stream",
     "text": [
      "c:\\Users\\ga.aldaej\\AppData\\Local\\anaconda3\\envs\\task8\\lib\\site-packages\\transformers\\generation\\utils.py:1369: UserWarning: Using `max_length`'s default (512) to control the generation length. This behaviour is deprecated and will be removed from the config in v5 of Transformers -- we recommend using `max_new_tokens` to control the maximum length of the generation.\n",
      "  warnings.warn(\n"
     ]
    },
    {
     "data": {
      "image/png": "[encoded data removed]",
      "text/plain": [
       "<Figure size 640x480 with 2 Axes>"
      ]
     },
     "metadata": {},
     "output_type": "display_data"
    }
   ],
   "source": [
    "import seaborn as sns\n",
    "import torch\n",
    "\n",
    "example_idx = 0\n",
    "inputs = tokenizer(test_data[example_idx]['translation']['en'], return_tensors='pt').to(model.device)\n",
    "with torch.no_grad():\n",
    "    outputs = model.generate(**inputs, output_attentions=True, return_dict_in_generate=True)\n",
    "\n",
    "\n",
    "attn = outputs.cross_attentions[0][0][0].detach().cpu().numpy()  # shape: [tgt_len, src_len] if correct\n",
    "\n",
    "# If attn is (tgt_len, 1, src_len), squeeze the middle dimension:\n",
    "attn_2d = attn.squeeze()  # shape: [tgt_len, src_len]\n",
    "\n",
    "sns.heatmap(attn_2d, cmap='viridis')\n",
    "plt.xlabel(\"Source tokens (English)\")\n",
    "plt.ylabel(\"Target tokens (Arabic)\")\n",
    "plt.title(\"Attention Map (Layer0, Head0)\")\n",
    "plt.savefig(\"figures/attention_maps.png\")\n",
    "plt.show()\n"
   ]
  },
  {
   "cell_type": "code",
   "execution_count": 71,
   "id": "c2056376",
   "metadata": {},
   "outputs": [
    {
     "name": "stderr",
     "output_type": "stream",
     "text": [
      "Translating: 100%|██████████| 118/118 [01:43<00:00,  1.14it/s]"
     ]
    },
    {
     "name": "stdout",
     "output_type": "stream",
     "text": [
      "Translation completed and saved to outputs/translated_texts.json\n"
     ]
    },
    {
     "name": "stderr",
     "output_type": "stream",
     "text": [
      "\n"
     ]
    }
   ],
   "source": [
    "import json\n",
    "import torch\n",
    "from transformers import MarianMTModel, MarianTokenizer\n",
    "from tqdm import tqdm\n",
    "\n",
    "device = torch.device(\"cuda\" if torch.cuda.is_available() else \"cpu\")\n",
    "\n",
    "# Load the best checkpoint (epoch 3)\n",
    "model_dir = \"opus-mt-en-ar-finetuned/checkpoint-3279\"  \n",
    "tokenizer = MarianTokenizer.from_pretrained(model_dir)\n",
    "model = MarianMTModel.from_pretrained(model_dir).to(device)\n",
    "\n",
    "# Load test data\n",
    "with open(\"data/test.json\", \"r\", encoding=\"utf-8\") as f:\n",
    "    test_data = [json.loads(line) for line in f]\n",
    "\n",
    "en_texts = [item[\"translation\"][\"en\"] for item in test_data]\n",
    "\n",
    "# Batch translation\n",
    "batch_size = 32\n",
    "translated = []\n",
    "\n",
    "for i in tqdm(range(0, len(en_texts), batch_size), desc=\"Translating\"):\n",
    "    batch_texts = en_texts[i:i+batch_size]\n",
    "    inputs = tokenizer(batch_texts, return_tensors=\"pt\", padding=True, truncation=True).to(device)\n",
    "    \n",
    "    with torch.no_grad():\n",
    "        translated_tokens = model.generate(**inputs, max_length=128)\n",
    "    \n",
    "    batch_translations = [tokenizer.decode(t, skip_special_tokens=True) for t in translated_tokens]\n",
    "    \n",
    "    for src, pred in zip(batch_texts, batch_translations):\n",
    "        translated.append({\"en\": src, \"Model translation\": pred})\n",
    "\n",
    "# Save to JSON\n",
    "with open(\"outputs/translated_texts.json\", \"w\", encoding=\"utf-8\") as f:\n",
    "    json.dump(translated, f, ensure_ascii=False, indent=2)\n",
    "\n",
    "print(\"Translation completed and saved to outputs/translated_texts.json\")\n"
   ]
  }
 ],
 "metadata": {
  "kernelspec": {
   "display_name": "task8",
   "language": "python",
   "name": "python3"
  },
  "language_info": {
   "codemirror_mode": {
    "name": "ipython",
    "version": 3
   },
   "file_extension": ".py",
   "mimetype": "text/x-python",
   "name": "python",
   "nbconvert_exporter": "python",
   "pygments_lexer": "ipython3",
   "version": "3.10.18"
  }
 },
 "nbformat": 4,
 "nbformat_minor": 5
}
